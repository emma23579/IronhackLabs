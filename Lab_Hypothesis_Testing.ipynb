{
 "cells": [
  {
   "cell_type": "markdown",
   "id": "497a610a",
   "metadata": {},
   "source": [
    "### Hypothesis Test"
   ]
  },
  {
   "cell_type": "code",
   "execution_count": 18,
   "id": "ef576790",
   "metadata": {},
   "outputs": [],
   "source": [
    "import numpy as np\n",
    "import pandas as pd\n",
    "import scipy.stats as stats"
   ]
  },
  {
   "cell_type": "markdown",
   "id": "307f4366",
   "metadata": {},
   "source": [
    "Ho = Null Hypothesis = mean is equal to 120mm Hg (Ho: mu = 120) <br>\n",
    "Ha = Alternative Hypothesis = mean is not equal to 120mm Hg (Ha: mu != 120)"
   ]
  },
  {
   "cell_type": "code",
   "execution_count": 24,
   "id": "615e7257",
   "metadata": {},
   "outputs": [],
   "source": [
    "n = 100\n",
    "sd = 21.21\n",
    "mu = 120\n",
    "sample_mean = 130.1"
   ]
  },
  {
   "cell_type": "markdown",
   "id": "07845754",
   "metadata": {},
   "source": [
    "<b> Compute standard error of mean"
   ]
  },
  {
   "cell_type": "code",
   "execution_count": 25,
   "id": "5f92c3ed",
   "metadata": {},
   "outputs": [
    {
     "data": {
      "text/plain": [
       "2.121"
      ]
     },
     "execution_count": 25,
     "metadata": {},
     "output_type": "execute_result"
    }
   ],
   "source": [
    "sem = sd/np.sqrt(n)\n",
    "sem"
   ]
  },
  {
   "cell_type": "markdown",
   "id": "255ea0ba",
   "metadata": {},
   "source": [
    "<b> Find z score"
   ]
  },
  {
   "cell_type": "code",
   "execution_count": 26,
   "id": "15cdce5a",
   "metadata": {},
   "outputs": [
    {
     "data": {
      "text/plain": [
       "4.761904761904759"
      ]
     },
     "execution_count": 26,
     "metadata": {},
     "output_type": "execute_result"
    }
   ],
   "source": [
    "z = (sample_mean - mu)/sem\n",
    "z"
   ]
  },
  {
   "cell_type": "markdown",
   "id": "05f16a83",
   "metadata": {},
   "source": [
    "<b> Find critical value using a 95% confidence interval"
   ]
  },
  {
   "cell_type": "code",
   "execution_count": 29,
   "id": "edcd0be1",
   "metadata": {},
   "outputs": [
    {
     "data": {
      "text/plain": [
       "1.959963984540054"
      ]
     },
     "execution_count": 29,
     "metadata": {},
     "output_type": "execute_result"
    }
   ],
   "source": [
    "zc = stats.norm.ppf(1-(0.05/2))\n",
    "zc"
   ]
  },
  {
   "cell_type": "markdown",
   "id": "b965c2f8",
   "metadata": {},
   "source": [
    "<b> Compare z score with critical value"
   ]
  },
  {
   "cell_type": "markdown",
   "id": "cac56e7c",
   "metadata": {},
   "source": [
    "Since z=4.76 > zc=1.96 we reject the null and assume that the mean is not equal to 120mm Hg"
   ]
  }
 ],
 "metadata": {
  "kernelspec": {
   "display_name": "Python 3 (ipykernel)",
   "language": "python",
   "name": "python3"
  },
  "language_info": {
   "codemirror_mode": {
    "name": "ipython",
    "version": 3
   },
   "file_extension": ".py",
   "mimetype": "text/x-python",
   "name": "python",
   "nbconvert_exporter": "python",
   "pygments_lexer": "ipython3",
   "version": "3.9.6"
  }
 },
 "nbformat": 4,
 "nbformat_minor": 5
}
