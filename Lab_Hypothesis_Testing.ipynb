{
 "cells": [
  {
   "cell_type": "markdown",
   "id": "918f0dd7",
   "metadata": {},
   "source": [
    "# Hypothesis Testing"
   ]
  },
  {
   "cell_type": "code",
   "execution_count": 1,
   "id": "14e400cd",
   "metadata": {},
   "outputs": [],
   "source": [
    "import numpy as np\n",
    "import pandas as pd\n",
    "import scipy.stats as stats"
   ]
  },
  {
   "cell_type": "markdown",
   "id": "f90aa1ae",
   "metadata": {},
   "source": [
    "# Test 1"
   ]
  },
  {
   "cell_type": "markdown",
   "id": "7a3dc066",
   "metadata": {},
   "source": [
    "It is assumed that the mean systolic blood pressure is μ = 120 mm Hg. In the Honolulu Heart Study, a sample of n = 100 people had an average systolic blood pressure of 130.1 mm Hg with a standard deviation of 21.21 mm Hg. Is the group significantly different (with respect to systolic blood pressure!) from the regular population?"
   ]
  },
  {
   "cell_type": "markdown",
   "id": "c36e3e8b",
   "metadata": {},
   "source": [
    "<b> Set up test"
   ]
  },
  {
   "cell_type": "markdown",
   "id": "bfebe8cd",
   "metadata": {},
   "source": [
    "Ho = Null Hypothesis = mean is equal to 120mm Hg (Ho: mu = 120) <br>\n",
    "Ha = Alternative Hypothesis = mean is not equal to 120mm Hg (Ha: mu != 120)"
   ]
  },
  {
   "cell_type": "code",
   "execution_count": 2,
   "id": "7f942887",
   "metadata": {},
   "outputs": [],
   "source": [
    "n = 100\n",
    "sd = 21.21\n",
    "mu = 120\n",
    "sample_mean = 130.1"
   ]
  },
  {
   "cell_type": "markdown",
   "id": "2f0493db",
   "metadata": {},
   "source": [
    "<b> Compute standard error of mean"
   ]
  },
  {
   "cell_type": "code",
   "execution_count": 3,
   "id": "c6fceb1e",
   "metadata": {},
   "outputs": [
    {
     "data": {
      "text/plain": [
       "2.121"
      ]
     },
     "execution_count": 3,
     "metadata": {},
     "output_type": "execute_result"
    }
   ],
   "source": [
    "sem = sd/np.sqrt(n)\n",
    "sem"
   ]
  },
  {
   "cell_type": "markdown",
   "id": "cbea3cb8",
   "metadata": {},
   "source": [
    "<b> Find t score"
   ]
  },
  {
   "cell_type": "code",
   "execution_count": 4,
   "id": "ab8b5f7d",
   "metadata": {},
   "outputs": [
    {
     "data": {
      "text/plain": [
       "4.761904761904759"
      ]
     },
     "execution_count": 4,
     "metadata": {},
     "output_type": "execute_result"
    }
   ],
   "source": [
    "z = (sample_mean - mu)/sem\n",
    "z"
   ]
  },
  {
   "cell_type": "markdown",
   "id": "1e812b68",
   "metadata": {},
   "source": [
    "<b> Find critical value using a 95% confidence interval (two-tailed test)"
   ]
  },
  {
   "cell_type": "code",
   "execution_count": 5,
   "id": "3309c3c5",
   "metadata": {},
   "outputs": [
    {
     "data": {
      "text/plain": [
       "1.959963984540054"
      ]
     },
     "execution_count": 5,
     "metadata": {},
     "output_type": "execute_result"
    }
   ],
   "source": [
    "zc = stats.norm.ppf(1-(0.05/2))\n",
    "zc"
   ]
  },
  {
   "cell_type": "markdown",
   "id": "f6dd2089",
   "metadata": {},
   "source": [
    "<b> Compare z score with critical value"
   ]
  },
  {
   "cell_type": "markdown",
   "id": "60b36073",
   "metadata": {},
   "source": [
    "Since z=4.76 > zc=1.96 we reject the null and assume that the mean is not equal to 120mm Hg"
   ]
  },
  {
   "cell_type": "markdown",
   "id": "b6c36453",
   "metadata": {},
   "source": [
    "## Test 2"
   ]
  },
  {
   "cell_type": "markdown",
   "id": "b152c513",
   "metadata": {},
   "source": [
    "In a packing plant, a machine packs cartons with jars. It is supposed that a new machine will pack faster on the average than the machine currently used. To test that hypothesis, the times it takes each machine to pack ten cartons is recorded. The results, in seconds, are shown in the table. Assume that there is sufficient evidence to conduct the t test, does the data provide sufficient evidence to show if one machine is better than the other?"
   ]
  },
  {
   "cell_type": "code",
   "execution_count": 27,
   "id": "44478c30",
   "metadata": {},
   "outputs": [],
   "source": [
    "df = pd.read_csv(\"Data/Data_Machine.txt\")\n",
    "df[['New Machine','Old Machine']] = df['New Machine\\t  Old Machine'].str.split('\\t', expand=True)\n",
    "df = df.drop(columns='New Machine\\t  Old Machine')"
   ]
  },
  {
   "cell_type": "code",
   "execution_count": 28,
   "id": "499a3631",
   "metadata": {},
   "outputs": [
    {
     "data": {
      "text/html": [
       "<div>\n",
       "<style scoped>\n",
       "    .dataframe tbody tr th:only-of-type {\n",
       "        vertical-align: middle;\n",
       "    }\n",
       "\n",
       "    .dataframe tbody tr th {\n",
       "        vertical-align: top;\n",
       "    }\n",
       "\n",
       "    .dataframe thead th {\n",
       "        text-align: right;\n",
       "    }\n",
       "</style>\n",
       "<table border=\"1\" class=\"dataframe\">\n",
       "  <thead>\n",
       "    <tr style=\"text-align: right;\">\n",
       "      <th></th>\n",
       "      <th>New Machine</th>\n",
       "      <th>Old Machine</th>\n",
       "    </tr>\n",
       "  </thead>\n",
       "  <tbody>\n",
       "    <tr>\n",
       "      <th>0</th>\n",
       "      <td>42.1</td>\n",
       "      <td>42.7</td>\n",
       "    </tr>\n",
       "    <tr>\n",
       "      <th>1</th>\n",
       "      <td>41</td>\n",
       "      <td>43.6</td>\n",
       "    </tr>\n",
       "    <tr>\n",
       "      <th>2</th>\n",
       "      <td>41.3</td>\n",
       "      <td>43.8</td>\n",
       "    </tr>\n",
       "    <tr>\n",
       "      <th>3</th>\n",
       "      <td>41.8</td>\n",
       "      <td>43.3</td>\n",
       "    </tr>\n",
       "    <tr>\n",
       "      <th>4</th>\n",
       "      <td>42.4</td>\n",
       "      <td>42.5</td>\n",
       "    </tr>\n",
       "    <tr>\n",
       "      <th>5</th>\n",
       "      <td>42.8</td>\n",
       "      <td>43.5</td>\n",
       "    </tr>\n",
       "    <tr>\n",
       "      <th>6</th>\n",
       "      <td>43.2</td>\n",
       "      <td>43.1</td>\n",
       "    </tr>\n",
       "    <tr>\n",
       "      <th>7</th>\n",
       "      <td>42.3</td>\n",
       "      <td>41.7</td>\n",
       "    </tr>\n",
       "    <tr>\n",
       "      <th>8</th>\n",
       "      <td>41.8</td>\n",
       "      <td>44</td>\n",
       "    </tr>\n",
       "    <tr>\n",
       "      <th>9</th>\n",
       "      <td>42.7</td>\n",
       "      <td>44.1</td>\n",
       "    </tr>\n",
       "  </tbody>\n",
       "</table>\n",
       "</div>"
      ],
      "text/plain": [
       "  New Machine     Old Machine\n",
       "0        42.1            42.7\n",
       "1          41            43.6\n",
       "2        41.3            43.8\n",
       "3        41.8            43.3\n",
       "4        42.4            42.5\n",
       "5        42.8            43.5\n",
       "6        43.2            43.1\n",
       "7        42.3            41.7\n",
       "8        41.8              44\n",
       "9        42.7            44.1"
      ]
     },
     "execution_count": 28,
     "metadata": {},
     "output_type": "execute_result"
    }
   ],
   "source": [
    "df"
   ]
  },
  {
   "cell_type": "code",
   "execution_count": null,
   "id": "98d37e32",
   "metadata": {},
   "outputs": [],
   "source": []
  }
 ],
 "metadata": {
  "kernelspec": {
   "display_name": "Python 3 (ipykernel)",
   "language": "python",
   "name": "python3"
  },
  "language_info": {
   "codemirror_mode": {
    "name": "ipython",
    "version": 3
   },
   "file_extension": ".py",
   "mimetype": "text/x-python",
   "name": "python",
   "nbconvert_exporter": "python",
   "pygments_lexer": "ipython3",
   "version": "3.9.6"
  }
 },
 "nbformat": 4,
 "nbformat_minor": 5
}
