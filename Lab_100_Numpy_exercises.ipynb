{
 "cells": [
  {
   "cell_type": "code",
   "execution_count": 1,
   "id": "cf41428f",
   "metadata": {},
   "outputs": [],
   "source": [
    "#1.\n",
    "import numpy as np"
   ]
  },
  {
   "cell_type": "code",
   "execution_count": 2,
   "id": "9001bab5",
   "metadata": {},
   "outputs": [
    {
     "data": {
      "text/plain": [
       "'1.21.2'"
      ]
     },
     "execution_count": 2,
     "metadata": {},
     "output_type": "execute_result"
    }
   ],
   "source": [
    "#2.\n",
    "np.__version__"
   ]
  },
  {
   "cell_type": "code",
   "execution_count": 3,
   "id": "5c67f0d6",
   "metadata": {},
   "outputs": [
    {
     "data": {
      "text/plain": [
       "<function numpy.__config__.show()>"
      ]
     },
     "execution_count": 3,
     "metadata": {},
     "output_type": "execute_result"
    }
   ],
   "source": [
    "np.show_config"
   ]
  },
  {
   "cell_type": "code",
   "execution_count": 16,
   "id": "b8462596",
   "metadata": {},
   "outputs": [
    {
     "data": {
      "text/plain": [
       "array([0., 0., 0., 0., 0., 0., 0., 0., 0., 0.])"
      ]
     },
     "execution_count": 16,
     "metadata": {},
     "output_type": "execute_result"
    }
   ],
   "source": [
    "#3.\n",
    "np.zeros(10)"
   ]
  },
  {
   "cell_type": "code",
   "execution_count": 10,
   "id": "a3fb3972",
   "metadata": {},
   "outputs": [
    {
     "data": {
      "text/plain": [
       "40"
      ]
     },
     "execution_count": 10,
     "metadata": {},
     "output_type": "execute_result"
    }
   ],
   "source": [
    "#4.\n",
    "array1 = np.array([1, 2, 3, 4, 8])\n",
    "\n",
    "array1.size*array1.itemsize"
   ]
  },
  {
   "cell_type": "code",
   "execution_count": 80,
   "id": "9d016319",
   "metadata": {},
   "outputs": [
    {
     "name": "stdout",
     "output_type": "stream",
     "text": [
      "add(x1, x2, /, out=None, *, where=True, casting='same_kind', order='K', dtype=None, subok=True[, signature, extobj])\n",
      "\n",
      "Add arguments element-wise.\n",
      "\n",
      "Parameters\n",
      "----------\n",
      "x1, x2 : array_like\n",
      "    The arrays to be added.\n",
      "    If ``x1.shape != x2.shape``, they must be broadcastable to a common\n",
      "    shape (which becomes the shape of the output).\n",
      "out : ndarray, None, or tuple of ndarray and None, optional\n",
      "    A location into which the result is stored. If provided, it must have\n",
      "    a shape that the inputs broadcast to. If not provided or None,\n",
      "    a freshly-allocated array is returned. A tuple (possible only as a\n",
      "    keyword argument) must have length equal to the number of outputs.\n",
      "where : array_like, optional\n",
      "    This condition is broadcast over the input. At locations where the\n",
      "    condition is True, the `out` array will be set to the ufunc result.\n",
      "    Elsewhere, the `out` array will retain its original value.\n",
      "    Note that if an uninitialized `out` array is created via the default\n",
      "    ``out=None``, locations within it where the condition is False will\n",
      "    remain uninitialized.\n",
      "**kwargs\n",
      "    For other keyword-only arguments, see the\n",
      "    :ref:`ufunc docs <ufuncs.kwargs>`.\n",
      "\n",
      "Returns\n",
      "-------\n",
      "add : ndarray or scalar\n",
      "    The sum of `x1` and `x2`, element-wise.\n",
      "    This is a scalar if both `x1` and `x2` are scalars.\n",
      "\n",
      "Notes\n",
      "-----\n",
      "Equivalent to `x1` + `x2` in terms of array broadcasting.\n",
      "\n",
      "Examples\n",
      "--------\n",
      ">>> np.add(1.0, 4.0)\n",
      "5.0\n",
      ">>> x1 = np.arange(9.0).reshape((3, 3))\n",
      ">>> x2 = np.arange(3.0)\n",
      ">>> np.add(x1, x2)\n",
      "array([[  0.,   2.,   4.],\n",
      "       [  3.,   5.,   7.],\n",
      "       [  6.,   8.,  10.]])\n",
      "\n",
      "The ``+`` operator can be used as a shorthand for ``np.add`` on ndarrays.\n",
      "\n",
      ">>> x1 = np.arange(9.0).reshape((3, 3))\n",
      ">>> x2 = np.arange(3.0)\n",
      ">>> x1 + x2\n",
      "array([[ 0.,  2.,  4.],\n",
      "       [ 3.,  5.,  7.],\n",
      "       [ 6.,  8., 10.]])\n"
     ]
    }
   ],
   "source": [
    "#5.\n",
    "np.info(np.add)"
   ]
  },
  {
   "cell_type": "code",
   "execution_count": 17,
   "id": "8aa9bb64",
   "metadata": {},
   "outputs": [
    {
     "name": "stdout",
     "output_type": "stream",
     "text": [
      "[0. 0. 0. 0. 1. 0. 0. 0. 0. 0.]\n"
     ]
    }
   ],
   "source": [
    "#6.\n",
    "zeros = np.zeros(10)\n",
    "zeros[4] = 1\n",
    "\n",
    "print(zeros)"
   ]
  },
  {
   "cell_type": "code",
   "execution_count": 126,
   "id": "5972960d",
   "metadata": {},
   "outputs": [
    {
     "name": "stdout",
     "output_type": "stream",
     "text": [
      "[10 11 12 13 14 15 16 17 18 19 20 21 22 23 24 25 26 27 28 29 30 31 32 33\n",
      " 34 35 36 37 38 39 40 41 42 43 44 45 46 47 48 49]\n"
     ]
    }
   ],
   "source": [
    "#7.\n",
    "vector1 = np.arange(10, 50)\n",
    "print(vector1)"
   ]
  },
  {
   "cell_type": "code",
   "execution_count": 24,
   "id": "a56864e5",
   "metadata": {},
   "outputs": [
    {
     "data": {
      "text/plain": [
       "array([49, 48, 47, 46, 45, 44, 43, 42, 41, 40, 39, 38, 37, 36, 35, 34, 33,\n",
       "       32, 31, 30, 29, 28, 27, 26, 25, 24, 23, 22, 21, 20, 19, 18, 17, 16,\n",
       "       15, 14, 13, 12, 11, 10])"
      ]
     },
     "execution_count": 24,
     "metadata": {},
     "output_type": "execute_result"
    }
   ],
   "source": [
    "#8.\n",
    "vector1[::-1]"
   ]
  },
  {
   "cell_type": "code",
   "execution_count": 118,
   "id": "877ad98c",
   "metadata": {},
   "outputs": [
    {
     "data": {
      "text/plain": [
       "array([0, 1, 2, 3, 4, 5, 6, 7, 8])"
      ]
     },
     "execution_count": 118,
     "metadata": {},
     "output_type": "execute_result"
    }
   ],
   "source": [
    "#9.\n",
    "matrix1 = [[0, 1, 2], [3, 4, 5], [6, 7, 8]]\n",
    "np.reshape(matrix1, 9)"
   ]
  },
  {
   "cell_type": "code",
   "execution_count": 32,
   "id": "d0684805",
   "metadata": {},
   "outputs": [
    {
     "data": {
      "text/plain": [
       "(array([0, 1, 4]),)"
      ]
     },
     "execution_count": 32,
     "metadata": {},
     "output_type": "execute_result"
    }
   ],
   "source": [
    "#10.\n",
    "array2 = np.array([1, 2, 0, 0, 4, 0])\n",
    "np.nonzero(array2)"
   ]
  },
  {
   "cell_type": "code",
   "execution_count": 33,
   "id": "3d84e1a4",
   "metadata": {
    "scrolled": true
   },
   "outputs": [
    {
     "data": {
      "text/plain": [
       "array([[1., 0., 0.],\n",
       "       [0., 1., 0.],\n",
       "       [0., 0., 1.]])"
      ]
     },
     "execution_count": 33,
     "metadata": {},
     "output_type": "execute_result"
    }
   ],
   "source": [
    "#11.\n",
    "np.eye(3)"
   ]
  },
  {
   "cell_type": "code",
   "execution_count": 38,
   "id": "bfea01fe",
   "metadata": {},
   "outputs": [
    {
     "data": {
      "text/plain": [
       "array([[[0.81459846, 0.49898901, 0.33231072],\n",
       "        [0.8085028 , 0.57015217, 0.76578794],\n",
       "        [0.54143874, 0.32991915, 0.85666707]],\n",
       "\n",
       "       [[0.17965282, 0.49610868, 0.19395457],\n",
       "        [0.60486575, 0.57791472, 0.23998663],\n",
       "        [0.47862131, 0.28848602, 0.67246807]],\n",
       "\n",
       "       [[0.75020317, 0.34058482, 0.06031559],\n",
       "        [0.71773796, 0.97778451, 0.98711356],\n",
       "        [0.17276227, 0.60733369, 0.0480171 ]]])"
      ]
     },
     "execution_count": 38,
     "metadata": {},
     "output_type": "execute_result"
    }
   ],
   "source": [
    "#12.\n",
    "np.random.random((3, 3, 3))"
   ]
  },
  {
   "cell_type": "code",
   "execution_count": 65,
   "id": "82da9fd1",
   "metadata": {},
   "outputs": [
    {
     "name": "stdout",
     "output_type": "stream",
     "text": [
      "0.004057365417018732\n",
      "0.9975911320738257\n"
     ]
    }
   ],
   "source": [
    "#13.\n",
    "random_matrix = np.random.random((10, 10))\n",
    "print(random_matrix.min())\n",
    "print(random_matrix.max())"
   ]
  },
  {
   "cell_type": "code",
   "execution_count": 66,
   "id": "754c2a16",
   "metadata": {},
   "outputs": [
    {
     "name": "stdout",
     "output_type": "stream",
     "text": [
      "[0.93623707 0.41538027 0.39798851 0.87211774 0.00566361 0.85473231\n",
      " 0.61968982 0.72680945 0.39395913 0.29738335 0.22079648 0.12723544\n",
      " 0.50303305 0.63828024 0.28675603 0.47493253 0.65559399 0.6423621\n",
      " 0.2326669  0.74883746 0.60381243 0.75291863 0.88044983 0.51363515\n",
      " 0.46286627 0.33222403 0.68886218 0.02877156 0.68836515 0.38741821]\n"
     ]
    },
    {
     "data": {
      "text/plain": [
       "0.5129926311999358"
      ]
     },
     "execution_count": 66,
     "metadata": {},
     "output_type": "execute_result"
    }
   ],
   "source": [
    "#14.\n",
    "random_vector = np.random.rand(30)\n",
    "print(random_vector)\n",
    "np.mean(random_vector)"
   ]
  },
  {
   "cell_type": "code",
   "execution_count": 74,
   "id": "1f4fd8e2",
   "metadata": {},
   "outputs": [
    {
     "name": "stdout",
     "output_type": "stream",
     "text": [
      "[1. 0. 0. 0. 0. 0. 0. 1.]\n"
     ]
    }
   ],
   "source": [
    "#15.\n",
    "array3 = np.ones((8))\n",
    "array3[1:-1] = 0\n",
    "print(array3)"
   ]
  },
  {
   "cell_type": "code",
   "execution_count": 79,
   "id": "d11245e2",
   "metadata": {},
   "outputs": [
    {
     "name": "stdout",
     "output_type": "stream",
     "text": [
      "[0.05470827 0.24570228 0.46049244 0.48200754 0.52996217 0.63412516\n",
      " 0.64919655 0.84589268 0.96663093 0.97978168]\n"
     ]
    }
   ],
   "source": [
    "#40.\n",
    "random_vector2 = np.random.rand(10)\n",
    "print(np.sort(random_vector2))"
   ]
  },
  {
   "cell_type": "code",
   "execution_count": 81,
   "id": "805b287e",
   "metadata": {},
   "outputs": [
    {
     "data": {
      "text/plain": [
       "2.0"
      ]
     },
     "execution_count": 81,
     "metadata": {},
     "output_type": "execute_result"
    }
   ],
   "source": [
    "#41.\n",
    "np.add.reduce(array3)"
   ]
  },
  {
   "cell_type": "code",
   "execution_count": 82,
   "id": "ad809344",
   "metadata": {},
   "outputs": [
    {
     "data": {
      "text/plain": [
       "False"
      ]
     },
     "execution_count": 82,
     "metadata": {},
     "output_type": "execute_result"
    }
   ],
   "source": [
    "#42.\n",
    "np.array_equal(array1, array2)"
   ]
  },
  {
   "cell_type": "code",
   "execution_count": 87,
   "id": "d19824eb",
   "metadata": {},
   "outputs": [
    {
     "data": {
      "text/plain": [
       "False"
      ]
     },
     "execution_count": 87,
     "metadata": {},
     "output_type": "execute_result"
    }
   ],
   "source": [
    "#43.\n",
    "array1.setflags(False)\n",
    "array1.flags.writeable"
   ]
  },
  {
   "cell_type": "code",
   "execution_count": 91,
   "id": "9c397d88",
   "metadata": {},
   "outputs": [
    {
     "name": "stdout",
     "output_type": "stream",
     "text": [
      "[[0.01719718 0.66010003]\n",
      " [0.1139947  0.53443186]\n",
      " [0.55471707 0.51832786]\n",
      " [0.54358655 0.84567157]\n",
      " [0.78881072 0.39398084]\n",
      " [0.60388314 0.68608214]\n",
      " [0.81093897 0.72855898]\n",
      " [0.2164976  0.34966274]\n",
      " [0.78008105 0.95513025]\n",
      " [0.80473381 0.57654727]]\n",
      "[0.660324   0.54645421 0.75919352 1.00530927 0.88172742 0.91399319\n",
      " 1.09014687 0.41126056 1.23320729 0.98995114]\n",
      "[1.54474984 1.36064493 0.75149906 0.9995086  0.46321697 0.84903399\n",
      " 0.73193821 1.01640673 0.88593865 0.62167763]\n"
     ]
    }
   ],
   "source": [
    "#44.\n",
    "cart_matrix = np.random.random((10, 2))\n",
    "print(cart_matrix)\n",
    "\n",
    "x = cart_matrix[:, 0]\n",
    "y = cart_matrix[:, 1]\n",
    "\n",
    "print(np.sqrt(x**2+y**2))\n",
    "print(np.arctan2(y, x))"
   ]
  },
  {
   "cell_type": "code",
   "execution_count": 96,
   "id": "edb5377d",
   "metadata": {},
   "outputs": [
    {
     "name": "stdout",
     "output_type": "stream",
     "text": [
      "1\n",
      "[0.56598175 0.90165424 0.08855143 0.07927174 0.         0.86176696\n",
      " 0.29749914 0.24093026 0.83666164 0.23077577]\n"
     ]
    }
   ],
   "source": [
    "#45.\n",
    "rand_vec = np.random.random(10)\n",
    "print(np.argmax(rand_vec))\n",
    "rand_vec[4] = 0\n",
    "print(rand_vec)"
   ]
  },
  {
   "cell_type": "code",
   "execution_count": 97,
   "id": "29606bc8",
   "metadata": {},
   "outputs": [
    {
     "name": "stdout",
     "output_type": "stream",
     "text": [
      "[array([[0, 1],\n",
      "       [0, 1]]), array([[0, 0],\n",
      "       [1, 1]])]\n"
     ]
    }
   ],
   "source": [
    "#46.\n",
    "xvalues = np.array([0, 1])\n",
    "yvalues = np.array([0, 1])\n",
    "\n",
    "print(np.meshgrid(xvalues, yvalues))\n"
   ]
  },
  {
   "cell_type": "code",
   "execution_count": 100,
   "id": "63701cbe",
   "metadata": {},
   "outputs": [
    {
     "name": "stdout",
     "output_type": "stream",
     "text": [
      "-32768\n",
      "32767\n"
     ]
    }
   ],
   "source": [
    "#48.\n",
    "print(np.iinfo(np.int16).min)\n",
    "print(np.iinfo(np.int16).max)"
   ]
  },
  {
   "cell_type": "code",
   "execution_count": 112,
   "id": "c8a41a74",
   "metadata": {
    "scrolled": true
   },
   "outputs": [
    {
     "name": "stdout",
     "output_type": "stream",
     "text": [
      "[0.05 0.97 0.25 0.63 0.53 0.85 0.65 0.48 0.98 0.46]\n"
     ]
    }
   ],
   "source": [
    "#49.\n",
    "np.set_printoptions(threshold=np.inf)\n",
    "print(random_vector2)"
   ]
  },
  {
   "cell_type": "code",
   "execution_count": 113,
   "id": "c677fd81",
   "metadata": {
    "scrolled": true
   },
   "outputs": [
    {
     "name": "stdout",
     "output_type": "stream",
     "text": [
      "7\n"
     ]
    }
   ],
   "source": [
    "#50.\n",
    "array4 = np.arange(50)\n",
    "scalar = 6.8\n",
    "\n",
    "new_array = np.abs(array4-scalar)\n",
    "print(new_array.argmin())"
   ]
  },
  {
   "cell_type": "code",
   "execution_count": 124,
   "id": "eb499bd2",
   "metadata": {},
   "outputs": [
    {
     "name": "stdout",
     "output_type": "stream",
     "text": [
      "[[6 7 8]\n",
      " [3 4 5]\n",
      " [0 1 2]]\n"
     ]
    }
   ],
   "source": [
    "#72.\n",
    "ordered_array = np.array([[0, 1, 2], [3, 4, 5], [6, 7, 8]])\n",
    "ordered_array[[0, 2]] = ordered_array[[2, 0]]\n",
    "print(ordered_array)"
   ]
  },
  {
   "cell_type": "code",
   "execution_count": null,
   "id": "ff815a40",
   "metadata": {},
   "outputs": [],
   "source": []
  }
 ],
 "metadata": {
  "kernelspec": {
   "display_name": "Python 3 (ipykernel)",
   "language": "python",
   "name": "python3"
  },
  "language_info": {
   "codemirror_mode": {
    "name": "ipython",
    "version": 3
   },
   "file_extension": ".py",
   "mimetype": "text/x-python",
   "name": "python",
   "nbconvert_exporter": "python",
   "pygments_lexer": "ipython3",
   "version": "3.9.6"
  }
 },
 "nbformat": 4,
 "nbformat_minor": 5
}
